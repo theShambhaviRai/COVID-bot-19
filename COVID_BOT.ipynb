{
  "nbformat": 4,
  "nbformat_minor": 0,
  "metadata": {
    "colab": {
      "name": "COVID-BOT",
      "provenance": [],
      "collapsed_sections": []
    },
    "kernelspec": {
      "name": "python3",
      "display_name": "Python 3"
    }
  },
  "cells": [
    {
      "cell_type": "code",
      "metadata": {
        "id": "-F9JuddWPrnD"
      },
      "source": [
        "pip install nltk"
      ],
      "execution_count": null,
      "outputs": []
    },
    {
      "cell_type": "code",
      "metadata": {
        "id": "cdlE_XCiPxr5"
      },
      "source": [
        "pip install newspaper3k"
      ],
      "execution_count": null,
      "outputs": []
    },
    {
      "cell_type": "code",
      "metadata": {
        "id": "TOd0WLJ4P6Uh"
      },
      "source": [
        "from newspaper import Article\n",
        "import random\n",
        "import string\n",
        "from sklearn.feature_extraction.text import TfidfVectorizer\n",
        "from sklearn.metrics.pairwise import cosine_similarity\n",
        "import nltk\n",
        "import numpy as np\n",
        "import warnings"
      ],
      "execution_count": null,
      "outputs": []
    },
    {
      "cell_type": "code",
      "metadata": {
        "id": "kESxBsubP_f3"
      },
      "source": [
        "warnings.filterwarnings('ignore')"
      ],
      "execution_count": null,
      "outputs": []
    },
    {
      "cell_type": "code",
      "metadata": {
        "id": "wVLXs0ppQCs5"
      },
      "source": [
        "nltk.download('punkt',quiet=True)\n",
        "nltk.download('wordnet',quiet=True)"
      ],
      "execution_count": null,
      "outputs": []
    },
    {
      "cell_type": "code",
      "metadata": {
        "id": "6RyLYbQZQF0B"
      },
      "source": [
        "article=Article('https://www.mayoclinic.org/diseases-conditions/coronavirus/symptoms-causes/syc-20479963')\n",
        "article.download()\n",
        "article.parse()\n",
        "article.nlp()\n",
        "corpus=article.text\n",
        "print(corpus)"
      ],
      "execution_count": null,
      "outputs": []
    },
    {
      "cell_type": "code",
      "metadata": {
        "id": "axM5MCF3QKNA"
      },
      "source": [
        "text=corpus\n",
        "sent_tokens=nltk.sent_tokenize(text) #coverting the text into a list of sentences\n",
        "print(sent_tokens)"
      ],
      "execution_count": null,
      "outputs": []
    },
    {
      "cell_type": "code",
      "metadata": {
        "id": "ocyBN2TZQN0q"
      },
      "source": [
        "remove_punct_dict=dict((ord(punct),None) for punct in string.punctuation)\n",
        "print(string.punctuation)\n",
        "print(remove_punct_dict)"
      ],
      "execution_count": null,
      "outputs": []
    },
    {
      "cell_type": "code",
      "metadata": {
        "id": "sf2wEfhqQSnP"
      },
      "source": [
        "def LemNormalize(text):\n",
        "  return nltk.word_tokenize(text.lower().translate(remove_punct_dict))\n",
        "print(LemNormalize(text))"
      ],
      "execution_count": null,
      "outputs": []
    },
    {
      "cell_type": "code",
      "metadata": {
        "id": "mGaK8dZPQVwr"
      },
      "source": [
        "GREETING_INPUTS=[\"hi\",\"hello\",\"hola\",\"greetings\",\"wassup\",\"hey\"]\n",
        "GREETING_RESPONSES=[\"howdy\",\"hi\",\"hey\",\"what's good\",\"hello\",\"hey there\"]\n",
        "def greeting(sentence):\n",
        "  for word in sentence.split():\n",
        "    if word.lower() in GREETING_INPUTS:\n",
        "      return random.choice(GREETING_RESPONSES)"
      ],
      "execution_count": null,
      "outputs": []
    },
    {
      "cell_type": "code",
      "metadata": {
        "id": "7BGpUdpcQaJS"
      },
      "source": [
        "def response(user_response):\n",
        "  user_response=user_response.lower()\n",
        "  robo_response=''\n",
        "  sent_tokens.append(user_response)\n",
        "  Tfidfvec=TfidfVectorizer(tokenizer=LemNormalize,stop_words='english')\n",
        "  tfidf=Tfidfvec.fit_transform(sent_tokens)\n",
        "  vals=cosine_similarity(tfidf[-1],tfidf)\n",
        "  idx=vals.argsort()[0][-2]\n",
        "  flat=vals.flatten()\n",
        "  flat.sort()\n",
        "  score=flat[-2]\n",
        "  if (score==0):\n",
        "    robo_response=robo_response+\"I apologize ,I don't understand.\"\n",
        "  else:\n",
        "    robo_response=robo_response+sent_tokens[idx]\n",
        "  sent_tokens.remove(user_response)\n",
        "  return robo_response"
      ],
      "execution_count": null,
      "outputs": []
    },
    {
      "cell_type": "code",
      "metadata": {
        "id": "o-W89Bi5Q_iM"
      },
      "source": [
        "flag =True\n",
        "print(\"COVIDbot:Hi! I am your DOCbot.I will answer your queries about Corona virus pandemic.If you want to exit,type Bye!\")\n",
        "while(flag==True):\n",
        "  user_response=input()\n",
        "  user_response=user_response.lower()\n",
        "  if(user_response!='bye'):\n",
        "    if(user_response=='thanks' or user_response=='thank you'):\n",
        "      flag=False\n",
        "      print(\"COVID:you are welcome\")\n",
        "    else:\n",
        "      if(greeting(user_response)!=None):\n",
        "        print(\"COVIDbot:\"+greeting(user_response))\n",
        "      else:\n",
        "        print(\"COVIDbot: \"+response(user_response))\n",
        "  else:\n",
        "    flag=False\n",
        "    print(\"COVID:chat with you later!\")"
      ],
      "execution_count": null,
      "outputs": []
    }
  ]
}